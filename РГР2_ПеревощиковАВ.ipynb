{
  "nbformat": 4,
  "nbformat_minor": 0,
  "metadata": {
    "colab": {
      "provenance": []
    },
    "kernelspec": {
      "name": "python3",
      "display_name": "Python 3"
    },
    "language_info": {
      "name": "python"
    }
  },
  "cells": [
    {
      "cell_type": "markdown",
      "source": [
        "Перевощиков Андрей Владимирович, 367472"
      ],
      "metadata": {
        "id": "qafWMPuBtGS7"
      }
    },
    {
      "cell_type": "markdown",
      "source": [
        "# **Задание 1 (вариант 2)**\n"
      ],
      "metadata": {
        "id": "P4K7ebtoyci7"
      }
    },
    {
      "cell_type": "markdown",
      "source": [
        "**Задание:**\n",
        "\n",
        "Предъявите доверительный интервал уровня $1-\\alpha$ для указанного параметра при данных предположениях. Даны две независимые выборки $X_1, X_2$ из нормальных рапределений $\\mathcal{N}(\\mu_1,\\sigma_1^2)$, $\\mathcal{N}(\\mu_2,\\sigma_2^2)$ объёмов $n_1, n_2$ соответственно.\n",
        "\n",
        "Сначала указывается оцениваемая функция, потом данные об остальных параметрах, затем параметры эксперимента и подсказки.\n",
        "\n",
        "$\\tau = \\mu_1-\\mu_2; \\sigma_1^2 = \\sigma_2^2$ неизвестна; $\\mu_1 = 2, \\mu_2 = 1, \\sigma_1^2 = \\sigma_2^2 = 1$\n",
        "\n",
        "$\\sqrt{\\frac{n_1n_2(n_1+n_2-2)}{n_1+n_2}}\\frac{\\overline{X_1}-\\overline{X_2}-\\tau}{\\sqrt{n_1S^2_*(X_1)+n_2S^2_*(X_2)}},$\n",
        "где $S^2_*(X_i)$ - выборочная смещенная дисперсия для выборки $ X_i;$\n",
        "\n",
        "**Решение:**\n",
        "\n",
        "$X_1, X_2$ - две независимые выборки из нормального распределения, следовательно их разность также распределена по нормальному закону. По теореме Фишера получаем, что\n",
        "$$\\sqrt{n} \\frac{\\overline{X} - \\mu}{\\sigma} \\sim N(0, 1),$$\n",
        "$$\\sqrt{n} \\frac{\\overline{X} - \\mu}{s} \\sim T(n-1),$$\n",
        "где $n$ - объем выборки. Исходя из независимости выборок и равенста дисперсий выборок, дисперсия разности равна $V=\\sigma^2 \\left( \\frac{1}{n_1}+\\frac{1}{n_2}\\right)$. Тогда, используя несмещенную объединенную оценку дисперсии (общую для выборок) $s_X^2 = \\frac{(n_1-1)s_1^2+(n_2-1)s_2^2}{n_1+n_2-2}$, получаем\n",
        "$$\\frac{\\overline{X_1}-\\overline{X_2}-\\tau}{s_X\\sqrt{\\frac{1}{n_1}+\\frac{1}{n_2}}} = T(n_1+n_2-2).$$  \n",
        "Перепишем данную формулу через смещенную выборочную дисперсию\n",
        "$$\\sqrt{\\frac{n_1n_2(n_1+n_2-2)}{n_1+n_2}}\\frac{\\overline{X_1}-\\overline{X_2}-\\tau}{\\sqrt{n_1S^2_*(X_1)+n_2S^2_*(X_2)}} = T(n_1+n_2-2)$$\n",
        "и получим нашу исходную функцию.\n",
        "\n",
        "Учтем, что в данном задании объем выборок у нас будет одинаковым, и перепишем нашу получившуюся статистику в виде\n",
        "$$Z = \\sqrt{\\frac{n_1n_2(n_1+n_2-2)}{n_1+n_2}}\\frac{\\overline{X_1}-\\overline{X_2}-\\tau}{\\sqrt{n_1S^2_*(X_1)+n_2S^2_*(X_2)}} = \\sqrt{\\frac{n^2(2n-2)}{2n}}\\frac{\\overline{X_1}-\\overline{X_2}-(\\mu_1-\\mu_2)}{\\sqrt{nS^2_*(X_1)+nS^2_*(X_2)}} = \\sqrt{n-1}\\frac{\\overline{X_1}-\\overline{X_2}-(\\mu_1-\\mu_2)}{\\sqrt{S^2_*(X_1)+S^2_*(X_2)}}$$\n",
        "\n",
        "Перейдём к вероятностному неравенству\n",
        "$$P(-t_{\\gamma}\\leq Z \\leq t_{\\gamma}) = 1 - \\alpha,$$ где $t_{\\gamma}$ - критическая точка распределения Стьюдента (для двусторонней области) с $2n-2$ степенью свободы и уровнем значимости $\\alpha=1-\\gamma$\n",
        "$$P(-t_{\\gamma}\\leq \\sqrt{n-1}\\frac{\\overline{X_1}-\\overline{X_2}-\\tau}{\\sqrt{S^2_*(X_1)+S^2_*(X_2)}} \\leq t_{\\gamma}) = 1 - \\alpha$$\n",
        "Теперь перейдём к обычному неравенству\n",
        "$$-t_{\\gamma}\\leq \\sqrt{n-1}\\frac{\\overline{X_1}-\\overline{X_2}-\\tau}{\\sqrt{S^2_*(X_1)+S^2_*(X_2)}} \\leq t_{\\gamma}$$\n",
        "$$-t_{\\gamma}*\\sqrt{\\frac{S^2_*(X_1)+S^2_*(X_2)}{n-1}}\\leq \\overline{X_1}-\\overline{X_2}-\\tau \\leq t_{\\gamma}*\\sqrt{\\frac{S^2_*(X_1)+S^2_*(X_2)}{n-1}}$$\n",
        "$$-t_{\\gamma}*\\sqrt{\\frac{S^2_*(X_1)+S^2_*(X_2)}{n-1}} - \\overline{X_1}+\\overline{X_2} \\leq -\\tau \\leq t_{\\gamma}*\\sqrt{\\frac{S^2_*(X_1)+S^2_*(X_2)}{n-1}} - \\overline{X_1}+\\overline{X_2}$$\n",
        "$$-t_{\\gamma}*\\sqrt{\\frac{S^2_*(X_1)+S^2_*(X_2)}{n-1}} + \\overline{X_1}-\\overline{X_2} \\leq \\tau \\leq t_{\\gamma}*\\sqrt{\\frac{S^2_*(X_1)+S^2_*(X_2)}{n-1}} + \\overline{X_1}-\\overline{X_2}$$\n",
        "Теперь мы можем увидеть доверительный интервал в явном виде\n",
        "$$\\left[(\\overline{X_1}-\\overline{X_2})-t_{\\gamma}*\\sqrt{\\frac{S^2_*(X_1)+S^2_*(X_2)}{n-1}}; (\\overline{X_1}-\\overline{X_2})+t_{\\gamma}*\\sqrt{\\frac{S^2_*(X_1)+S^2_*(X_2)}{n-1}}\\right]$$\n",
        "\n",
        "**Эксперимент:**"
      ],
      "metadata": {
        "id": "i-gByp4dy2kp"
      }
    },
    {
      "cell_type": "code",
      "source": [
        "import numpy as np\n",
        "from scipy import stats\n",
        "\n",
        "mu1 = 2\n",
        "mu2 = 1\n",
        "sigma1_sq = 1\n",
        "sigma2_sq = 1\n",
        "tau = mu1 - mu2\n",
        "alpha = 0.05\n",
        "iter = 1000\n",
        "\n",
        "for n in [25, 1000]:\n",
        "    counter = 0\n",
        "    t = stats.t.ppf(1 - alpha/2, 2*n-2)\n",
        "    for _ in range(iter):\n",
        "        X1 = np.random.normal(mu1, np.sqrt(sigma1_sq), n)\n",
        "        X2 = np.random.normal(mu2, np.sqrt(sigma2_sq), n)\n",
        "        X1_mean = np.mean(X1)\n",
        "        X2_mean = np.mean(X2)\n",
        "        X1_var = np.var(X1)\n",
        "        X2_var = np.var(X2)\n",
        "        low = (X1_mean - X2_mean) - (t * np.sqrt((X1_var+X2_var)/(n-1)))\n",
        "        high = (X1_mean - X2_mean) + (t * np.sqrt((X1_var+X2_var)/(n-1)))\n",
        "\n",
        "        if low <= tau <= high:\n",
        "            counter += 1\n",
        "    print(f\"Покрытие при {n}:\", counter / iter)\n",
        "\n"
      ],
      "metadata": {
        "colab": {
          "base_uri": "https://localhost:8080/"
        },
        "id": "tLF0Ya5MjdKJ",
        "outputId": "85759f55-2014-4ba1-918a-f28f64f13c12"
      },
      "execution_count": 19,
      "outputs": [
        {
          "output_type": "stream",
          "name": "stdout",
          "text": [
            "Покрытие при 25: 0.946\n",
            "Покрытие при 1000: 0.952\n"
          ]
        }
      ]
    },
    {
      "cell_type": "markdown",
      "source": [
        "# **Задание 2 (вариант 5)**"
      ],
      "metadata": {
        "id": "4hS3PDShy66w"
      }
    },
    {
      "cell_type": "markdown",
      "source": [
        "**Задание:**\n",
        "\n",
        "Постройте асимптотический доверительный интервал уровня $1 - \\alpha$ для указанного параметра. Проведите эксперимент по схеме, аналогичной первой задаче.\n",
        "\n",
        "Класс распределений: $Pois(\\lambda)$\n",
        "\n",
        "Указанный параметр: $\\lambda + \\lambda^2$\n",
        "\n",
        "Параметры эксперимента: $ \\lambda = 1$"
      ],
      "metadata": {
        "id": "CQsBz9flzCe6"
      }
    },
    {
      "cell_type": "markdown",
      "source": [
        "**Решение:**\n",
        "\n",
        "Рассмотрим выборку:\n",
        "$$X_1, X_2, \\dots, X_n \\sim Pois(\\lambda)$$\n",
        "Необходимо построить асимптотический доверительный интервал уровня $1-\\alpha$ для параметра $\\theta = \\lambda + \\lambda^2$. Однако проще будет рассмотреть случай для параметра $\\lambda$, а потом его преобразовать до $\\theta$.\n",
        "\n",
        "Асимптотическим доверительным интервалом при оценивании параметра $\\theta$ называется такой интервал $(\\hat{\\theta_1}, \\hat{\\theta_2})$, что $P(\\hat{\\theta_1} < \\theta < \\hat{\\theta_2}) \\to \\gamma$ при $(n \\to \\infty)$\n",
        "\n",
        "Согласно ЦПТ в форме Леви:\n",
        "$$\\sqrt{n}\\frac{\\overline{X_n}-\\mu}{\\sigma} \\to N(0,1)$$\n",
        "по распределению при $n \\to \\infty$. Для распределения Пуассона $\\mu = \\lambda$ и $\\sigma = \\lambda$. Пусть $c_{\\alpha/2}$ - квантиль стандартного нормального распределения, такой что:\n",
        "\n",
        "$$P\\bigg(-c_{\\alpha/2} < \\sqrt{n}\\frac{\\overline{X}-\\lambda}{\\sqrt{\\lambda}} < c_{\\alpha/2}\\bigg) = 1 - \\alpha$$\n",
        "\n",
        "Эффективной оценкой для $\\lambda$ является выборочное среднее: $ \\hat{\\lambda} = \\overline{X}$. Подставим оценку в полуившуюся формулу под корень в знаменателе и перейдем к обычному неравенству:\n",
        "\n",
        "$$-c_{\\alpha/2} < \\sqrt{n}\\frac{\\overline{X}-\\lambda}{\\sqrt{\\overline{X}}} < c_{\\alpha/2}$$\n",
        "\n",
        "$$\\overline{X} - \\frac{c_{\\alpha/2}\\sqrt{\\overline{X}}}{\\sqrt{n}} < \\lambda < \\overline{X} + \\frac{c_{\\alpha/2}\\sqrt{\\overline{X}}}{\\sqrt{n}}$$\n",
        "Получим интервал для $\\lambda$ в явном виде\n",
        "$$\\left[\\overline{X} - \\frac{c_{\\alpha/2}\\sqrt{\\overline{X}}}{\\sqrt{n}} , \\overline{X} + \\frac{c_{\\alpha/2}\\sqrt{\\overline{X}}}{\\sqrt{n}}\\right]$$\n",
        "Тогда для параметра $\\theta = \\lambda^2+\\lambda$ интервал будет иметь вид\n",
        "$$\\left[ \\left(\\overline{X} - \\frac{c_{\\alpha/2}\\sqrt{\\overline{X}}}{\\sqrt{n}}\\right)^2 + \\overline{X} - \\frac{c_{\\alpha/2}\\sqrt{\\overline{X}}}{\\sqrt{n}}, \\left(\\overline{X} + \\frac{c_{\\alpha/2}\\sqrt{\\overline{X}}}{\\sqrt{n}}\\right)^2 + \\overline{X} + \\frac{c_{\\alpha/2}\\sqrt{\\overline{X}}}{\\sqrt{n}}\\right]$$"
      ],
      "metadata": {
        "id": "V6I0muQzYKOE"
      }
    },
    {
      "cell_type": "markdown",
      "source": [
        "**Эксперимент:**"
      ],
      "metadata": {
        "id": "fbb4WuK92_0P"
      }
    },
    {
      "cell_type": "code",
      "source": [
        "alpha = 0.05\n",
        "true_lambda = 1\n",
        "theta = true_lambda + true_lambda**2\n",
        "iter = 1000\n",
        "\n",
        "for n in [25, 1000]:\n",
        "  counter = 0\n",
        "  c = stats.norm.ppf(1 - alpha / 2)\n",
        "  for _ in range(iter):\n",
        "      sample = np.random.poisson(true_lambda, n)\n",
        "      lambda_mean = np.mean(sample)\n",
        "      lambda_low = lambda_mean - (c*np.sqrt(lambda_mean)/np.sqrt(n))\n",
        "      lambda_high = lambda_mean + (c*np.sqrt(lambda_mean)/np.sqrt(n))\n",
        "      low = lambda_low**2 + lambda_low\n",
        "      high = lambda_high**2 + lambda_high\n",
        "\n",
        "      if low <= theta <= high:\n",
        "          counter += 1\n",
        "  print(f\"Покрытие при {n}:\", counter / iter)"
      ],
      "metadata": {
        "colab": {
          "base_uri": "https://localhost:8080/"
        },
        "id": "Z20nGh-PQC4b",
        "outputId": "bc66ff68-67c5-46db-af19-8346a053b44a"
      },
      "execution_count": 44,
      "outputs": [
        {
          "output_type": "stream",
          "name": "stdout",
          "text": [
            "Покрытие при 25: 0.943\n",
            "Покрытие при 1000: 0.951\n"
          ]
        }
      ]
    },
    {
      "cell_type": "markdown",
      "source": [
        "# **Вывод**\n",
        "С увеличением объема выборки доля попаданий стремится к заданному уровню доверия. При достижении объема выборки в 1000 значений, мы чаще получаем желаемый результат, чем при объеме в 25 значений. Это можно объяснить тем, что с ростом объема выборки наша эмпирическая функция распределения стремится к теоретической функции распределения, происходит сужение доверительных интервалов и увеличении их точности, что в свою очередь оказывает положительное влияние на результаты вычислений.\n",
        "\n"
      ],
      "metadata": {
        "id": "f-WA4T_NfD4I"
      }
    }
  ]
}